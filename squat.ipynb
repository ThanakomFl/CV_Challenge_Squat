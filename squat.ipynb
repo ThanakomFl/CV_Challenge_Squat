{
 "cells": [
  {
   "cell_type": "code",
   "execution_count": 3,
   "metadata": {
    "ExecuteTime": {
     "end_time": "2019-11-15T10:17:36.531486Z",
     "start_time": "2019-11-15T10:17:00.145562Z"
    },
    "scrolled": true
   },
   "outputs": [],
   "source": [
    "import numpy as np\n",
    "import cv2\n",
    "\n",
    "capp = ['./SquatCounting/Squat1_8_9.avi','./SquatCounting/Squat2_16_17.avi','./SquatCounting/Squat3_11_9_10.avi']\n",
    "true = [[8,9],[16,17],[11,9,10]]\n",
    "\n",
    "cap = cv2.VideoCapture(capp[2])\n",
    "_,bg = cap.read()\n",
    "count = np.zeros((5,1))\n",
    "true_x = np.zeros((5,1))\n",
    "true_y = np.zeros((5,1))\n",
    "last_x = np.zeros((5,5))\n",
    "last_y = np.zeros((5,5))\n",
    "islast = [False,False,False]\n",
    "iscount = [False,False,False]\n",
    "bg_time = 0\n",
    "max_people = 0\n",
    "while(cap.isOpened()):\n",
    "    if(bg_time < 50):\n",
    "        _,bg = cap.read()\n",
    "        bg_time = bg_time + 1\n",
    "        continue\n",
    "    haveFrame,im = cap.read()\n",
    "\n",
    "    if (not haveFrame) or (cv2.waitKey(1) & 0xFF == ord('q')):\n",
    "        break\n",
    "\n",
    "    diffc = cv2.absdiff(im,bg)\n",
    "    diffg = cv2.cvtColor(diffc,cv2.COLOR_BGR2GRAY)\n",
    "    bwmask = cv2.inRange(diffg,40,170)\n",
    "\n",
    "    bwmask = cv2.medianBlur(bwmask,19)\n",
    "\n",
    "    kernel = np.ones((170,7), np.uint8)\n",
    "    bwmask = cv2.morphologyEx(bwmask, cv2.MORPH_DILATE, kernel)\n",
    "\n",
    "    temp = bwmask.copy()\n",
    "    contours,hierarchy = cv2.findContours(temp, cv2.RETR_TREE, cv2.CHAIN_APPROX_NONE)\n",
    "    contours = sorted(contours,key=cv2.contourArea,reverse=True)\n",
    "\n",
    "    for i,cnt in enumerate(contours[:3]):\n",
    "        x, y, w, h = cv2.boundingRect(cnt)\n",
    "        if(h > 150 and h > w and 150 > w > 50):\n",
    "            cv2.rectangle(im, (x, y), (x + w, y + h), (0, 0, 255), 2)\n",
    "            cv2.rectangle(bwmask, (x, y), (x + w, y + h), (255,255, 255), 2)\n",
    "            distance_x = 0\n",
    "            distance_y = 0\n",
    "            isStay = 0\n",
    "            for c in range(5):\n",
    "                distance_x += abs(last_x[i][c] - x)\n",
    "                distance_y += abs(last_y[i][c] - y)\n",
    "            if(distance_x == 0 and distance_y == 0):\n",
    "                true_x[i] = x\n",
    "                true_y[i] = y\n",
    "            if(distance_x == 0 and distance_y == 0 and islast[i] == False):\n",
    "                true_x[i] = x\n",
    "                true_y[i] = y\n",
    "                islast[i] = True\n",
    "\n",
    "            if(islast[i] and abs(true_x[i] - x) < 20):\n",
    "                if(last_y[i][0] < y and iscount[i] == False and abs(true_y[i] - y) > 12):\n",
    "                    count[i] = count[i] + 1\n",
    "                    iscount[i] = True\n",
    "                if(iscount[i] and abs(y- true_y[i]) <= 2  and abs(y - last_y[i][0]) < 5):\n",
    "                    iscount[i] = False\n",
    "            for c in range(4,-1,-1):\n",
    "                if(c == 0):\n",
    "                    last_x[i][c] = x\n",
    "                    last_y[i][c] = y\n",
    "                else:\n",
    "                    last_x[i][c] = last_x[i][c-1]\n",
    "                    last_y[i][c] = last_y[i][c-1]\n",
    "            cv2.putText(im,str(int(count[i])),(x+75,100),cv2.FONT_HERSHEY_PLAIN,4, (255,0,0), 3, cv2.LINE_AA)        \n",
    "\n",
    "    cv2.imshow('bwmask', bwmask)\n",
    "    cv2.moveWindow('bwmask',10,10)\n",
    "    cv2.imshow('im', im)\n",
    "    cv2.moveWindow('im', 800, 10)\n",
    "cap.release()\n",
    "cv2.destroyAllWindows()"
   ]
  }
 ],
 "metadata": {
  "kernelspec": {
   "display_name": "Python 3",
   "language": "python",
   "name": "python3"
  },
  "language_info": {
   "codemirror_mode": {
    "name": "ipython",
    "version": 3
   },
   "file_extension": ".py",
   "mimetype": "text/x-python",
   "name": "python",
   "nbconvert_exporter": "python",
   "pygments_lexer": "ipython3",
   "version": "3.7.3"
  },
  "varInspector": {
   "cols": {
    "lenName": 16,
    "lenType": 16,
    "lenVar": 40
   },
   "kernels_config": {
    "python": {
     "delete_cmd_postfix": "",
     "delete_cmd_prefix": "del ",
     "library": "var_list.py",
     "varRefreshCmd": "print(var_dic_list())"
    },
    "r": {
     "delete_cmd_postfix": ") ",
     "delete_cmd_prefix": "rm(",
     "library": "var_list.r",
     "varRefreshCmd": "cat(var_dic_list()) "
    }
   },
   "types_to_exclude": [
    "module",
    "function",
    "builtin_function_or_method",
    "instance",
    "_Feature"
   ],
   "window_display": false
  }
 },
 "nbformat": 4,
 "nbformat_minor": 2
}
